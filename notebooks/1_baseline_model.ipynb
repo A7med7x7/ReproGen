{
 "cells": [
  {
   "cell_type": "markdown",
   "id": "8532f84d",
   "metadata": {},
   "source": [
    "# Baseline model demo\n",
    "in This notebook we shows a minimal example to load a  LLM from the Hugging Face Hub, prepare a prompt, and generate a response.\n",
    "we will use `Open-Orca/Mistral-7B-OPenOrca`\n",
    "\n",
    "Notes:\n",
    "- Ensure you have the model weights available or sufficient GPU memory.\n"
   ]
  },
  {
   "cell_type": "code",
   "execution_count": null,
   "id": "fe857b4d",
   "metadata": {},
   "outputs": [],
   "source": [
    "# Imports\n",
    "import torch\n",
    "from transformers import AutoTokenizer, AutoModelForCausalLM"
   ]
  },
  {
   "cell_type": "code",
   "execution_count": null,
   "id": "92a35177",
   "metadata": {},
   "outputs": [],
   "source": [
    "# Set model and device\n",
    "MODEL_NAME = \"Open-Orca/Mistral-7B-OpenOrca\"\n",
    "DEVICE = \"cuda\" if torch.cuda.is_available() else \"cpu\"\n",
    "prompt = \"Question: What methods and tools are used to assess the land-use suitability in the Kuala Terengganu coastal zone, and how does this information support urban planning and decision-making?\\nAnswer: \"\n",
    "# load tokenizer and model\n",
    "tokenizer = AutoTokenizer.from_pretrained(MODEL_NAME)\n",
    "model = AutoModelForCausalLM.from_pretrained(\n",
    "    MODEL_NAME,\n",
    "    torch_dtype=torch.float16 if DEVICE == \"cuda\" else torch.float32,\n",
    "    device_map=\"auto\" if DEVICE == \"cuda\" else None,\n",
    ")\n",
    "model.eval()"
   ]
  },
  {
   "cell_type": "code",
   "execution_count": null,
   "id": "5749f627",
   "metadata": {},
   "outputs": [],
   "source": [
    "model_device = next(model.parameters()).device\n",
    "inputs = tokenizer(prompt, return_tensors=\"pt\").to(model_device)\n",
    "# generate\n",
    "with torch.no_grad():\n",
    "    output = model.generate(\n",
    "        **inputs,\n",
    "        max_new_tokens=200,\n",
    "        do_sample=False,\n",
    "        eos_token_id=tokenizer.eos_token_id,\n",
    "        pad_token_id=tokenizer.pad_token_id,\n",
    "    )\n",
    "\n",
    "# decode\n",
    "answer = tokenizer.decode(output[0][inputs[\"input_ids\"].shape[1]:], skip_special_tokens=True)\n",
    "print(\"###### MODEL ANSWER ######\")\n",
    "print(answer.strip())"
   ]
  }
 ],
 "metadata": {
  "language_info": {
   "name": "python"
  }
 },
 "nbformat": 4,
 "nbformat_minor": 5
}
