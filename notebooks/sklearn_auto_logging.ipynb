{
 "cells": [
  {
   "cell_type": "code",
   "execution_count": null,
   "id": "83bec1ba",
   "metadata": {},
   "outputs": [],
   "source": [
    "# Importing Libraries\n",
    "import mlflow\n",
    "import mlflow.sklearn\n",
    "from mlflow_log import log_python, log_git"
   ]
  },
  {
   "cell_type": "code",
   "execution_count": null,
   "id": "b81c056c",
   "metadata": {},
   "outputs": [],
   "source": [
    "# Automatically track sklearn model, params and metrics\n",
    "mlflow.sklearn.autolog()\n",
    "\n",
    "# Start an experiment and assign it a name\n",
    "mlflow.set_experiment(\"your-experiment-name\")\n",
    "\n",
    "with mlflow.start_run():\n",
    "    \n",
    "    # - You can now...\n",
    "    # - Load data\n",
    "    # - Define your sklearn model\n",
    "    # - Train a model\n",
    "    # - Evaluate \n",
    "    \n",
    "    # Log Python environment details\n",
    "    log_python()\n",
    "\n",
    "    # Log Git repository details\n",
    "    log_git()\n",
    "\n",
    "    pass  "
   ]
  }
 ],
 "metadata": {
  "kernelspec": {
   "display_name": "pytorchenv",
   "language": "python",
   "name": "python3"
  },
  "language_info": {
   "name": "python",
   "version": "3.7.12"
  }
 },
 "nbformat": 4,
 "nbformat_minor": 5
}
