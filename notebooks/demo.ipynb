{
 "cells": [
  {
   "cell_type": "code",
   "execution_count": null,
   "id": "638382ca",
   "metadata": {},
   "outputs": [],
   "source": [
    "from pathlib import Path\n",
    "import mlflow\n",
    "mlflow.set_experiment(\"test\")\n",
    "with mlflow.start_run() as run:\n",
    "    mlflow.log_param(\"optimizer\", \"adam\")\n",
    "    mlflow.log_param(\"learning_rate\", 0.003)\n",
    "    mlflow.log_param(\"batch_size\", 32)\n",
    "\n",
    "    Path(\"nulltext.txt\").write_text(\"from MLflow\")\n",
    "\n",
    "\n",
    "    mlflow.log_artifact(\"nulltext.txt\")"
   ]
  }
 ],
 "metadata": {
  "language_info": {
   "name": "python"
  }
 },
 "nbformat": 4,
 "nbformat_minor": 5
}
