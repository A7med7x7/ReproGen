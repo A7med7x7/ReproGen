{
 "cells": [
  {
   "cell_type": "code",
   "execution_count": 2,
   "id": "d09aa71b",
   "metadata": {},
   "outputs": [],
   "source": [
    "import mlflow \n",
    "import os\n",
    "\n",
    "mlflow_tracking_uri = os.getenv(\"MLFLOW_TRACKING_URI\", \"http://localhost:5000\")"
   ]
  },
  {
   "cell_type": "code",
   "execution_count": 7,
   "id": "20319253",
   "metadata": {},
   "outputs": [
    {
     "name": "stdout",
     "output_type": "stream",
     "text": [
      "Help on function getenv in module os:\n",
      "\n",
      "getenv(key, default=None)\n",
      "    Get an environment variable, return None if it doesn't exist.\n",
      "    The optional second argument can specify an alternate default.\n",
      "    key, default and the result are str.\n",
      "\n"
     ]
    }
   ],
   "source": [
    "help(os.getenv)"
   ]
  },
  {
   "cell_type": "code",
   "execution_count": null,
   "id": "698e1d4a",
   "metadata": {},
   "outputs": [],
   "source": []
  }
 ],
 "metadata": {
  "kernelspec": {
   "display_name": "exp-traacking-env",
   "language": "python",
   "name": "python3"
  },
  "language_info": {
   "codemirror_mode": {
    "name": "ipython",
    "version": 3
   },
   "file_extension": ".py",
   "mimetype": "text/x-python",
   "name": "python",
   "nbconvert_exporter": "python",
   "pygments_lexer": "ipython3",
   "version": "3.9.21"
  }
 },
 "nbformat": 4,
 "nbformat_minor": 5
}
