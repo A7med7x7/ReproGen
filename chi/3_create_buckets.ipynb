{
 "cells": [
  {
   "cell_type": "markdown",
   "id": "1d0077a0",
   "metadata": {},
   "source": [
    "### Create Object store continairs (S3 buckets) "
   ]
  },
  {
   "cell_type": "code",
   "execution_count": 20,
   "id": "b65f8733-0972-4367-b1b4-eef297aa1ff0",
   "metadata": {
    "tags": []
   },
   "outputs": [],
   "source": [
    "from chi import context\n",
    "import chi\n",
    "import swiftclient"
   ]
  },
  {
   "cell_type": "code",
   "execution_count": null,
   "id": "ab5c2d91-a18d-4d36-b3cc-1c37bc6ff7d2",
   "metadata": {
    "tags": []
   },
   "outputs": [
    {
     "data": {
      "application/vnd.jupyter.widget-view+json": {
       "model_id": "",
       "version_major": 2,
       "version_minor": 0
      },
      "text/plain": [
       "VBox(children=(Dropdown(description='Select Project', options=('CHI-231138',), value='CHI-231138'), Output()))"
      ]
     },
     "metadata": {},
     "output_type": "display_data"
    },
    {
     "data": {
      "application/vnd.jupyter.widget-view+json": {
       "model_id": "",
       "version_major": 2,
       "version_minor": 0
      },
      "text/plain": [
       "VBox(children=(Dropdown(description='Select Site', options=('CHI@TACC', 'CHI@UC', 'CHI@EVL', 'CHI@NCAR', 'CHI@…"
      ]
     },
     "metadata": {},
     "output_type": "display_data"
    }
   ],
   "source": [
    "project_name = \"fancyproject\"\n",
    "context.choose_project()\n",
    "context.choose_site(default=\"CHI@TACC\")"
   ]
  },
  {
   "cell_type": "code",
   "execution_count": 23,
   "id": "8d98e4d4-3aad-4eda-bad8-dab18272334c",
   "metadata": {
    "tags": []
   },
   "outputs": [],
   "source": [
    "os_conn = chi.clients.connection()\n",
    "token = os_conn.authorize()\n",
    "storage_url = os_conn.object_store.get_endpoint()\n",
    "\n",
    "swift_conn = swiftclient.Connection(preauthurl=storage_url,\n",
    "                                    preauthtoken=token,\n",
    "                                    retries=5)"
   ]
  },
  {
   "cell_type": "code",
   "execution_count": 24,
   "id": "ad55b8cf-9620-463a-99b9-b36c96f5c8e7",
   "metadata": {
    "tags": []
   },
   "outputs": [
    {
     "data": {
      "text/plain": [
       "<swiftclient.client.Connection at 0x7f445557b0a0>"
      ]
     },
     "execution_count": 24,
     "metadata": {},
     "output_type": "execute_result"
    }
   ],
   "source": [
    "swift_conn"
   ]
  },
  {
   "cell_type": "code",
   "execution_count": 26,
   "id": "ebd9979d-42fa-439d-b458-cc9f9aeb6045",
   "metadata": {
    "tags": []
   },
   "outputs": [
    {
     "name": "stdout",
     "output_type": "stream",
     "text": [
      "Creating bucket: fancyproject-data\n",
      "Creating bucket: fancyproject-mlflow-metrics\n",
      "Creating bucket: fancyproject-mlflow-artifacts\n"
     ]
    }
   ],
   "source": [
    "buckets = [\n",
    "    f\"{project_name}-data\",\n",
    "    f\"{project_name}-mlflow-metrics\",\n",
    "    f\"{project_name}-mlflow-artifacts\"\n",
    "]\n",
    "\n",
    "\n",
    "for bucket in buckets:\n",
    "    print(f\"Creating bucket: {bucket}\")\n",
    "    swift_conn.put_container(bucket)"
   ]
  }
 ],
 "metadata": {
  "kernelspec": {
   "display_name": "Python 3 (ipykernel)",
   "language": "python",
   "name": "python3"
  },
  "language_info": {
   "codemirror_mode": {
    "name": "ipython",
    "version": 3
   },
   "file_extension": ".py",
   "mimetype": "text/x-python",
   "name": "python",
   "nbconvert_exporter": "python",
   "pygments_lexer": "ipython3",
   "version": "3.10.9"
  }
 },
 "nbformat": 4,
 "nbformat_minor": 5
}
