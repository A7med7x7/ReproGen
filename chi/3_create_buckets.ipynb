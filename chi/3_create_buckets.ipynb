{
 "cells": [
  {
   "cell_type": "markdown",
   "id": "1d0077a0",
   "metadata": {},
   "source": [
    "### Create Object store continairs (S3 buckets) "
   ]
  },
  {
   "cell_type": "code",
   "execution_count": null,
   "id": "db17917e",
   "metadata": {},
   "outputs": [],
   "source": [
    "project_name = \"ahmed\""
   ]
  },
  {
   "cell_type": "markdown",
   "id": "34bae715",
   "metadata": {},
   "source": [
    "### having the node as instance"
   ]
  },
  {
   "cell_type": "code",
   "execution_count": null,
   "id": "8ceabe0b",
   "metadata": {},
   "outputs": [],
   "source": [
    "# run in Chameleon Jupyter environment\n",
    "from chi import server, context\n",
    "import chi, os, time, datetime\n",
    "\n",
    "context.version = \"1.0\" \n",
    "context.choose_project()\n",
    "context.choose_site(default=\"KVM@TACC\")"
   ]
  },
  {
   "cell_type": "code",
   "execution_count": null,
   "id": "f2858238",
   "metadata": {},
   "outputs": [],
   "source": [
    "username = os.getenv('USER') \n",
    "s = server.get_server(f\"node-mltrain-{username}\")"
   ]
  },
  {
   "cell_type": "markdown",
   "id": "ea48046e",
   "metadata": {},
   "source": [
    "### Create the S# compataible object containers"
   ]
  },
  {
   "cell_type": "code",
   "execution_count": null,
   "id": "0032f0c5",
   "metadata": {},
   "outputs": [],
   "source": [
    "s.execute(f\"rclone mkdir rclone_s3:{project_name}-data\")\n",
    "s.execute(f\"rclone mkdir rclone_s3:{project_name}-mlflow/mlflow-artifacts\")\n",
    "s.execute(f\"rclone mkdir rclone_s3:{project_name}-mlflow/metrics\")"
   ]
  }
 ],
 "metadata": {
  "language_info": {
   "name": "python"
  }
 },
 "nbformat": 4,
 "nbformat_minor": 5
}
